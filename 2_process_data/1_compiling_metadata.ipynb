{
 "cells": [
  {
   "cell_type": "code",
   "execution_count": 1,
   "id": "aa1aaedb",
   "metadata": {},
   "outputs": [],
   "source": [
    "# built-in\n",
    "from collections import Counter\n",
    "from pathlib import Path\n",
    "import warnings\n",
    "\n",
    "# third-party (pip install required)\n",
    "from matplotlib import pylab\n",
    "import matplotlib.pyplot as plt\n",
    "import numpy as np\n",
    "import pandas as pd\n",
    "from pymodulon.core import IcaData\n",
    "from pymodulon.io import load_json_model\n",
    "from pymodulon.plotting import *\n",
    "from pymodulon.util import infer_activities\n",
    "from scipy.stats import mannwhitneyu, pearsonr\n",
    "import seaborn as sns\n",
    "from sklearn.decomposition import PCA\n",
    "from sklearn.preprocessing import StandardScaler\n",
    "from scipy.stats import spearmanr\n",
    "from scipy.signal import find_peaks\n",
    "pd.set_option('display.max_columns', None)"
   ]
  },
  {
   "cell_type": "code",
   "execution_count": 2,
   "id": "b1578328",
   "metadata": {},
   "outputs": [],
   "source": [
    "DATA_PATH = Path('Results/')\n",
    "tpm_1 = pd.read_csv(Path(DATA_PATH, 'batch_1_log_tpm.csv'),index_col=0).fillna(\"NaN\")\n",
    "tpm_2 = pd.read_csv(Path(DATA_PATH, 'batch_2_log_tpm.csv'),index_col=0).fillna(\"NaN\")\n",
    "tpm_3 = pd.read_csv(Path(DATA_PATH, 'batch_3_log_tpm.csv'),index_col=0).fillna(\"NaN\")\n",
    "tpm_4 = pd.read_csv(Path(DATA_PATH, 'batch_4_log_tpm.csv'),index_col=0).fillna(\"NaN\")"
   ]
  },
  {
   "cell_type": "code",
   "execution_count": 15,
   "id": "21fd768b",
   "metadata": {},
   "outputs": [],
   "source": [
    "tpm_2 = tpm_2.drop(columns=['p1k_00549'])\n",
    "combined_tpm = tpm_1.join([tpm_2, tpm_3, tpm_4])"
   ]
  },
  {
   "cell_type": "code",
   "execution_count": 17,
   "id": "225387e1",
   "metadata": {},
   "outputs": [],
   "source": [
    "combined_tpm.to_csv(Path(DATA_PATH, 'SBRG_log_tpm.csv'))"
   ]
  },
  {
   "cell_type": "code",
   "execution_count": 21,
   "id": "a7873e5e",
   "metadata": {},
   "outputs": [],
   "source": [
    "DATA_PATH = Path('Results/')\n",
    "multiqc_1 = pd.read_csv(Path(DATA_PATH, 'batch_1_multiqc_stats.tsv'),sep='\\t',index_col=0).fillna(\"NaN\")\n",
    "multiqc_2 = pd.read_csv(Path(DATA_PATH, 'batch_2_multiqc_stats.tsv'),sep='\\t',index_col=0).fillna(\"NaN\")\n",
    "multiqc_3 = pd.read_csv(Path(DATA_PATH, 'batch_3_multiqc_stats.tsv'),sep='\\t',index_col=0).fillna(\"NaN\")\n",
    "multiqc_4 = pd.read_csv(Path(DATA_PATH, 'batch_4_multiqc_stats.tsv'),sep='\\t',index_col=0).fillna(\"NaN\")"
   ]
  },
  {
   "cell_type": "code",
   "execution_count": 23,
   "id": "21eff1dd",
   "metadata": {},
   "outputs": [],
   "source": [
    "multiqc_2 = multiqc_2.drop(index='p1k_00549')\n",
    "combined_multiqc = pd.concat([multiqc_1, multiqc_2, multiqc_3, multiqc_4], axis=0)"
   ]
  },
  {
   "cell_type": "code",
   "execution_count": 25,
   "id": "900bf3b9",
   "metadata": {},
   "outputs": [],
   "source": [
    "combined_multiqc.to_csv(Path(DATA_PATH, 'SBRG_multiqc_stats.csv'))"
   ]
  },
  {
   "cell_type": "code",
   "execution_count": null,
   "id": "473aad2e",
   "metadata": {},
   "outputs": [],
   "source": []
  }
 ],
 "metadata": {
  "kernelspec": {
   "display_name": "Python 3 (ipykernel)",
   "language": "python",
   "name": "python3"
  },
  "language_info": {
   "codemirror_mode": {
    "name": "ipython",
    "version": 3
   },
   "file_extension": ".py",
   "mimetype": "text/x-python",
   "name": "python",
   "nbconvert_exporter": "python",
   "pygments_lexer": "ipython3",
   "version": "3.7.16"
  }
 },
 "nbformat": 4,
 "nbformat_minor": 5
}
